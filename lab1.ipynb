{
 "cells": [
  {
   "cell_type": "markdown",
   "metadata": {},
   "source": [
    "# Призначення Jupyter Notebook\n",
    "\n",
    "Jupyter Notebook — це інтерактивне середовище для написання та виконання коду, що використовується в основному для наукових досліджень, аналізу даних, візуалізації даних та машинного навчання. Воно дозволяє об'єднувати код, текст, зображення та графіки в одному документі.\n"
   ]
  },
  {
   "cell_type": "code",
   "execution_count": 1,
   "metadata": {},
   "outputs": [
    {
     "name": "stdout",
     "output_type": "stream",
     "text": [
      "Hello, eva!\n"
     ]
    }
   ],
   "source": [
    "\n",
    "name = input(\"Please enter your name: \")\n",
    "\n",
    "print(f\"Hello, {name}!\")\n"
   ]
  },
  {
   "cell_type": "code",
   "execution_count": 2,
   "metadata": {},
   "outputs": [
    {
     "name": "stdout",
     "output_type": "stream",
     "text": [
      "Random numbers: [0.09360075 0.32822144 0.11091515 0.64822683 0.24899596 0.56674694\n",
      " 0.57692952 0.24432407 0.30201052 0.74386862]\n",
      "Mean value: 0.38638398018524517\n"
     ]
    }
   ],
   "source": [
    "import numpy as np\n",
    "\n",
    "random_numbers = np.random.rand(10)\n",
    "mean_value = np.mean(random_numbers)\n",
    "\n",
    "print(\"Random numbers:\", random_numbers)\n",
    "print(\"Mean value:\", mean_value)\n"
   ]
  }
 ],
 "metadata": {
  "kernelspec": {
   "display_name": "Python 3",
   "language": "python",
   "name": "python3"
  },
  "language_info": {
   "codemirror_mode": {
    "name": "ipython",
    "version": 3
   },
   "file_extension": ".py",
   "mimetype": "text/x-python",
   "name": "python",
   "nbconvert_exporter": "python",
   "pygments_lexer": "ipython3",
   "version": "3.10.11"
  }
 },
 "nbformat": 4,
 "nbformat_minor": 2
}
