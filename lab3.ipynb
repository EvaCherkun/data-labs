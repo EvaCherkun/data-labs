{
 "cells": [
  {
   "cell_type": "markdown",
   "metadata": {},
   "source": [
    "Завдання 1: Створюємо набір даних за допомогою DatasetGenerator"
   ]
  },
  {
   "cell_type": "code",
   "execution_count": 18,
   "metadata": {},
   "outputs": [
    {
     "name": "stdout",
     "output_type": "stream",
     "text": [
      "   feature_0  feature_1  feature_2  feature_3  feature_4  target\n",
      "0   0.065613  -1.814317  -0.848534   0.278723  -1.898162       0\n",
      "1   1.943645  -0.781251  -0.780406  -1.020383  -0.176647       1\n",
      "2   2.215437  -1.591460  -1.754176  -0.157724   0.875586       1\n",
      "3   2.248896   1.438831   1.071276   0.166088  -0.733065       1\n",
      "4   1.398888   1.603281   1.307294  -2.452265  -0.763596       0\n"
     ]
    }
   ],
   "source": [
    "import numpy as np\n",
    "import pandas as pd\n",
    "from sklearn.datasets import make_classification\n",
    "\n",
    "# Створення набору даних за допомогою make_classification\n",
    "X, y = make_classification(n_samples=100,   # Кількість зразків\n",
    "                           n_features=5,    # Кількість ознак\n",
    "                           n_informative=3, # Кількість інформативних ознак\n",
    "                           n_redundant=1,   # Кількість надлишкових ознак\n",
    "                           n_classes=2,     # Кількість класів\n",
    "                           random_state=42) # Випадковий seed для відтворюваності\n",
    "\n",
    "# Перетворення в DataFrame для зручності\n",
    "df = pd.DataFrame(X, columns=[f'feature_{i}' for i in range(X.shape[1])])\n",
    "df['target'] = y\n",
    "\n",
    "# Виведення перших 5 рядків згенерованого набору даних\n",
    "print(df.head())\n"
   ]
  },
  {
   "cell_type": "markdown",
   "metadata": {},
   "source": [
    "Завдання 2:\n",
    " Завантажуємо набір даних для класифікації з сайту Kaggle. В моєму випадку було обрано набір даних емоцій\n"
   ]
  },
  {
   "cell_type": "code",
   "execution_count": 15,
   "metadata": {},
   "outputs": [
    {
     "name": "stdout",
     "output_type": "stream",
     "text": [
      "                                                                                                                                                                                            Comment Emotion\n",
      "0                                                                                                                         i seriously hate one subject to death but now i feel reluctant to drop it    fear\n",
      "1                                                                                                                                                                im so full of life i feel appalled   anger\n",
      "2                                                               i sit here to write i start to dig out my feelings and i think that i am afraid to accept the possibility that he might not make it    fear\n",
      "3                                                                                                         ive been really angry with r and i feel like an idiot for trusting him in the first place     joy\n",
      "4                                                                                                           i feel suspicious if there is no one outside like the rapture has happened or something    fear\n",
      "5                                                                                         i feel jealous becasue i wanted that kind of love the true connection between two souls and i wanted that   anger\n",
      "6                                                                                                                     when a friend of mine keeps telling me morbid things that happened to his dog   anger\n",
      "7                                                                                                                             i finally fell asleep feeling angry useless and still full of anxiety   anger\n",
      "8                                                                                                                                                      i feel a bit annoyed and antsy in a good way   anger\n",
      "9                                                                                                                           i feel like i ve regained another vital part of my life which is living     joy\n",
      "10                                                                                   i feel a bit like franz liebkind in the producers not many people know it but the fuhrer was a terrific dancer     joy\n",
      "11                            i was feeling at the start didnt want to move much at all was really glad to experience this glimpse into the sort of vibrant energy i will gain through out the year     joy\n",
      "12                                                                                                                                                                            i was bitten by a dog    fear\n",
      "13  i do not always find myself feeling thankful but over the years i ve gathered a few tricks that allow me to feel grateful in the face of moments when the last thing i want to do is say thanks     joy\n",
      "14                                                                                                                                 i just try not to talk to anyone when i feel irritable like that   anger\n"
     ]
    }
   ],
   "source": [
    "import pandas as pd\n",
    "\n",
    "file_path = \"C:\\\\Users\\\\Єва\\\\OneDrive\\\\Data\\\\Emotion_classify_Data.csv\"\n",
    "\n",
    "EmotionData = pd.read_csv(file_path)\n",
    "\n",
    "# Налаштовуємо максимальну кількість рядків для виводу \n",
    "pd.set_option('display.max_rows', 100)\n",
    "\n",
    "# Налаштовуємо максимальну кількість стовпців для виводу (всі стовпці)\n",
    "pd.set_option('display.max_columns', None)\n",
    "\n",
    "# Налаштовуємо ширину стовпців, щоб уникнути скорочення тексту\n",
    "pd.set_option('display.max_colwidth', None)\n",
    "\n",
    "pd.set_option('display.width', 1000)\n",
    "\n",
    "\n",
    "print(EmotionData.head(15)) \n"
   ]
  },
  {
   "cell_type": "markdown",
   "metadata": {},
   "source": [
    "Завдання 3: Згенерувати набір даних для класифікації, використовуючи стандартні можливості Python"
   ]
  },
  {
   "cell_type": "code",
   "execution_count": 24,
   "metadata": {},
   "outputs": [
    {
     "name": "stdout",
     "output_type": "stream",
     "text": [
      "   Feature_1  Feature_2  Feature_3  Feature_4  Feature_5  Feature_6  Feature_7  Feature_8  Feature_9  Feature_10  Target\n",
      "0   0.496714  -0.138264   0.647689   1.523030  -0.234153   1.682366   1.899347   4.607122   2.862799    2.474630       0\n",
      "1  -0.234137   1.579213   0.767435  -0.469474   0.542560   6.452376   6.509717   8.245171   4.177086    0.730851       0\n",
      "2  -0.463418  -0.465730   0.241962  -1.913280  -1.724918   2.736664   9.800055   5.962586   7.097371    0.073578       0\n",
      "3  -0.562288  -1.012831   0.314247  -0.908024  -1.412304   5.182057   0.375287   5.692302   9.207708    9.684191       0\n",
      "4   1.465649  -0.225776   0.067528  -1.424748  -0.544383   5.405527   4.582048   9.450171   6.736098    0.648993       0\n"
     ]
    }
   ],
   "source": [
    "import numpy as np\n",
    "import pandas as pd\n",
    "import random\n",
    "\n",
    "# Встановлюємо фіксоване значення для відтворюваності\n",
    "random.seed(42)\n",
    "np.random.seed(42)\n",
    "\n",
    "# Параметри набору даних\n",
    "n_samples = 1000   # Кількість зразків\n",
    "n_features = 10    # Кількість ознак (фіч)\n",
    "n_classes = 2      # Кількість класів\n",
    "\n",
    "X = np.random.randn(n_samples, n_features)\n",
    "\n",
    "y = [random.randint(0, n_classes-1) for _ in range(n_samples)]\n",
    "\n",
    "\n",
    "df_features = pd.DataFrame(X, columns=[f'Feature_{i}' for i in range(1, n_features + 1)])\n",
    "\n",
    "\n",
    "df_features['Target'] = y\n",
    "\n",
    "\n",
    "print(df_features.head())\n",
    "\n",
    "\n"
   ]
  },
  {
   "cell_type": "markdown",
   "metadata": {},
   "source": [
    "Завдання 4: Провести моделювання для отриманих наборів даних з використанням регресійного аналізу."
   ]
  },
  {
   "cell_type": "code",
   "execution_count": 17,
   "metadata": {},
   "outputs": [
    {
     "name": "stdout",
     "output_type": "stream",
     "text": [
      "Mean Squared Error: 0.06560000000000002\n",
      "Mean Absolute Error: 0.22400000000000034\n",
      "R^2 Score: 0.9610821072615092\n"
     ]
    },
    {
     "data": {
      "image/png": "[encoded data removed]",
      "text/plain": [
       "<Figure size 640x480 with 1 Axes>"
      ]
     },
     "metadata": {},
     "output_type": "display_data"
    }
   ],
   "source": [
    "import numpy as np\n",
    "import pandas as pd\n",
    "import matplotlib.pyplot as plt\n",
    "from sklearn.linear_model import LinearRegression\n",
    "from sklearn.metrics import mean_squared_error, mean_absolute_error, r2_score\n",
    "\n",
    "# Дані\n",
    "data = {\n",
    "    'X': [1, 2, 3, 4, 5],\n",
    "    'y': [1.2, 2.8, 3.5, 4.0, 5.1]\n",
    "}\n",
    "\n",
    "# Створення DataFrame\n",
    "df = pd.DataFrame(data)\n",
    "\n",
    "# Незалежна змінна\n",
    "X = df[['X']]\n",
    "\n",
    "# Залежна змінна\n",
    "y = df['y']\n",
    "\n",
    "# Створення і навчання моделі\n",
    "model = LinearRegression()\n",
    "model.fit(X, y)\n",
    "\n",
    "# Прогнозування\n",
    "y_pred = model.predict(X)\n",
    "\n",
    "# Оцінка якості моделі\n",
    "mse = mean_squared_error(y, y_pred)\n",
    "mae = mean_absolute_error(y, y_pred)\n",
    "r2 = r2_score(y, y_pred)\n",
    "\n",
    "print(f'Mean Squared Error: {mse}')\n",
    "print(f'Mean Absolute Error: {mae}')\n",
    "print(f'R^2 Score: {r2}')\n",
    "\n",
    "# Візуалізація результатів\n",
    "plt.scatter(X, y, color='blue', label='Actual')\n",
    "plt.plot(X, y_pred, color='red', label='Predicted')\n",
    "plt.xlabel('X')\n",
    "plt.ylabel('y')\n",
    "plt.title('Лінійна регресія')\n",
    "plt.legend()\n",
    "plt.show()\n"
   ]
  }
 ],
 "metadata": {
  "kernelspec": {
   "display_name": "Python 3",
   "language": "python",
   "name": "python3"
  },
  "language_info": {
   "codemirror_mode": {
    "name": "ipython",
    "version": 3
   },
   "file_extension": ".py",
   "mimetype": "text/x-python",
   "name": "python",
   "nbconvert_exporter": "python",
   "pygments_lexer": "ipython3",
   "version": "3.10.7"
  }
 },
 "nbformat": 4,
 "nbformat_minor": 2
}
